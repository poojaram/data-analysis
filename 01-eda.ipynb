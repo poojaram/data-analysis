{
 "cells": [
  {
   "cell_type": "markdown",
   "metadata": {},
   "source": [
    "# Exploratory Data Analysis of Health Burden\n",
    "In this notebook, you will apply your exploratory data analysis skills to a dataset on health burden. See the `README.md` file for a detailed description of the data source and variables."
   ]
  },
  {
   "cell_type": "markdown",
   "metadata": {},
   "source": [
    "## Set up"
   ]
  },
  {
   "cell_type": "code",
   "execution_count": 1,
   "metadata": {},
   "outputs": [],
   "source": [
    "# Load any packages you want to use (e.g., pandas, matplotlib, and any others)"
   ]
  },
  {
   "cell_type": "code",
   "execution_count": 2,
   "metadata": {},
   "outputs": [],
   "source": [
    "# Read in the `data/prepped/risk-data.csv` file into a dataframe\n",
    "# Use the `.head()` method to print out the data frame"
   ]
  },
  {
   "cell_type": "markdown",
   "metadata": {},
   "source": [
    "## Data Structure\n",
    "To get a basic sense of your dataset, check the following:\n",
    "\n",
    "- What is the size of the dataset (rows, columns)?\n",
    "- How many countries are present in the dataset?\n",
    "- What are the age-groups in the dataset?\n",
    "- What are the variables (columns) present in the dataset?\n",
    "- What is the data type of each variable?\n",
    "- What are the summary statistics of each quantitative variable (_hint: `describe()`_)\n",
    "\n",
    "Note the **count** for each column, and investigate why these may be inconsistent."
   ]
  },
  {
   "cell_type": "code",
   "execution_count": 3,
   "metadata": {},
   "outputs": [],
   "source": [
    "# Code goes here to answer the questions listed above"
   ]
  },
  {
   "cell_type": "markdown",
   "metadata": {},
   "source": [
    "## Univariate Analysis\n",
    "To explore the distribution of each risk-column in a visual way, you'll want to create a histogram of each column (preferrably in the same plot). Luckily, pandas dataframes have a built in `.hist()` method that will do just this! Simply call `df.hist()` to make a histogram for each numeric column. Make sure to adjust the `figsize` parameter to make your charts legible. "
   ]
  },
  {
   "cell_type": "code",
   "execution_count": 4,
   "metadata": {},
   "outputs": [],
   "source": [
    "# Code goes here to perform the tasks above"
   ]
  },
  {
   "cell_type": "markdown",
   "metadata": {},
   "source": [
    "List some observations from your histograms here using Markdown code:\n",
    "\n",
    "- Observation one\n",
    "- Observation two\n",
    "- etc..."
   ]
  },
  {
   "cell_type": "markdown",
   "metadata": {},
   "source": [
    "## Univariate analysis (by age)\n",
    "In this section, you should **write a function** to investigate how a given risk (column) varies by **age group**. The risk -- column name -- will be the argument to your function. More specifically, the function should create a set of histograms (one for each age-group) to show the distribution of death rates for a given risk factor. For example, it would return a chart with 5 histograms -- one for each age group -- showing the distribution of the `alcohol_use` death rate.\n",
    "\n",
    "While we haven't discussed it thus far, this type of plot _facetting_ is something easily accomplished using the [Seaborn Package](https://seaborn.pydata.org/generated/seaborn.FacetGrid.html), which you will need to import to use. There's also a great [section](https://jakevdp.github.io/PythonDataScienceHandbook/04.14-visualization-with-seaborn.html#Faceted-histograms) in the _Python Data Science Handbook_ describing this approach.\n",
    "\n",
    "Make sure to **include a docstring** to describe your function."
   ]
  },
  {
   "cell_type": "code",
   "execution_count": 5,
   "metadata": {},
   "outputs": [],
   "source": [
    "# Write the function described above here"
   ]
  },
  {
   "cell_type": "code",
   "execution_count": 6,
   "metadata": {},
   "outputs": [],
   "source": [
    "# Demonstrate that your function works by passing a risk of your choice to the function you just wrote."
   ]
  },
  {
   "cell_type": "markdown",
   "metadata": {},
   "source": [
    "List some observations about the relationship by age here using Markdown code:\n",
    "\n",
    "- Observation one\n",
    "- Observation two\n",
    "- etc..."
   ]
  },
  {
   "cell_type": "markdown",
   "metadata": {},
   "source": [
    "## Univariate analysis (by sex)\n",
    "In this section, you should investigate how a given risk (column) varies by **sex**. To do this, **write a function** to create a single histogram with _overlapping distributions_ for men and women (for a given risk factor). \n",
    "\n",
    "Make sure to include a **docstring**. \n",
    "\n",
    "_Hint_: You may need to use the `.dropna()` method to exclude na results from your data before plotting.\n",
    "_Hint_: turn down the _alpha_ (opacity) to help reduce occlusion in the chart. "
   ]
  },
  {
   "cell_type": "code",
   "execution_count": 7,
   "metadata": {},
   "outputs": [],
   "source": [
    "# Write the function described above here"
   ]
  },
  {
   "cell_type": "code",
   "execution_count": 8,
   "metadata": {},
   "outputs": [],
   "source": [
    "# Demonstrate that your function works by passing a risk of your choice to the function you just wrote."
   ]
  },
  {
   "cell_type": "markdown",
   "metadata": {},
   "source": [
    "List some observations about the relationship by sex here using Markdown code:\n",
    "\n",
    "- Observation one\n",
    "- Observation two\n",
    "- etc..."
   ]
  },
  {
   "cell_type": "markdown",
   "metadata": {},
   "source": [
    "## Bivariate analysis\n",
    "As a final step, create a **scatterplot matrix** of all of your risks to visually assess the correlation across death rates. Hint: see [documentation](https://pandas.pydata.org/pandas-docs/stable/visualization.html#scatter-matrix-plot)."
   ]
  },
  {
   "cell_type": "code",
   "execution_count": 9,
   "metadata": {},
   "outputs": [],
   "source": [
    "# Write the code here to create the scatterplot matrix"
   ]
  },
  {
   "cell_type": "markdown",
   "metadata": {
    "collapsed": true
   },
   "source": [
    "List some observations from your scatterplot matrix here using Markdown code:\n",
    "\n",
    "- Observation one\n",
    "- Observation two\n",
    "- etc..."
   ]
  }
 ],
 "metadata": {
  "kernelspec": {
   "display_name": "Python 3",
   "language": "python",
   "name": "python3"
  },
  "language_info": {
   "codemirror_mode": {
    "name": "ipython",
    "version": 3
   },
   "file_extension": ".py",
   "mimetype": "text/x-python",
   "name": "python",
   "nbconvert_exporter": "python",
   "pygments_lexer": "ipython3",
   "version": "3.6.5"
  }
 },
 "nbformat": 4,
 "nbformat_minor": 1
}
