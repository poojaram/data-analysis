{
 "cells": [
  {
   "cell_type": "markdown",
   "metadata": {},
   "source": [
    "# Health Burden\n",
    "See the `README.md` file for a detailed description of the data source and variables."
   ]
  },
  {
   "cell_type": "markdown",
   "metadata": {},
   "source": [
    "## Set up"
   ]
  },
  {
   "cell_type": "code",
   "execution_count": 1,
   "metadata": {},
   "outputs": [],
   "source": [
    "# Read in data (this is done for you)\n",
    "import pandas as pd\n",
    "import numpy as np\n",
    "import altair as alt\n",
    "alt.renderers.enable('notebook') # enable notebook rendering\n",
    "\n",
    "# Load the data\n",
    "data = pd.read_csv('./data/prepped/risk-data.csv')"
   ]
  },
  {
   "cell_type": "markdown",
   "metadata": {},
   "source": [
    "## Data Structure\n",
    "To get a basic sense of your dataset, check the following:\n",
    "\n",
    "- What is the size of the dataset (rows, columns)?\n",
    "- How many countries are present in the dataset?\n",
    "- What are the age-groups in the dataset?\n",
    "- What are the variables (columns) present in the dataset?\n",
    "- What is the data type of each variable?\n",
    "- What are the summary statistics of each quantitative variable (_hint: `describe()`_)\n",
    "\n",
    "Note the **count** for each column, and investigate why these may be inconsistent."
   ]
  },
  {
   "cell_type": "code",
   "execution_count": 2,
   "metadata": {},
   "outputs": [],
   "source": [
    "# Code goes here\n"
   ]
  },
  {
   "cell_type": "markdown",
   "metadata": {},
   "source": [
    "## Univariate Analysis\n",
    "To explore the distribution of each risk-column in a visual way, create a histogram of each risk-column of interest (e.g., `alcohol_use`, `drug_use`, etc.). For easier comparisons, you may want to store each histogram in a variable, then render all of the charts in the same row as shown [here](https://altair-viz.github.io/user_guide/compound_charts.html?highlight=repeat#vertical-concatenation).\n"
   ]
  },
  {
   "cell_type": "code",
   "execution_count": 3,
   "metadata": {},
   "outputs": [],
   "source": [
    "# Code goes here\n"
   ]
  },
  {
   "cell_type": "markdown",
   "metadata": {},
   "source": [
    "_list some observations from your histograms here using Markdown code_:\n",
    "\n",
    "- Observation one\n",
    "- Observation two\n",
    "- etc...\n"
   ]
  },
  {
   "cell_type": "markdown",
   "metadata": {},
   "source": [
    "## Univariate analysis (by age)\n",
    "In this section, you should **write a function** to investigate how a given risk (column) varies by **age group** (the risk -- column name -- will be the argument to your function). More specifically, the function should create a set of histograms (one for each age-group) to show the distribution of death rates for a given risk factor (e.g., 5 histograms -- one for each age group -- showing the distribution of the `alcohol_use` death rate).\n",
    "\n",
    "The easiest way to do this will be to use **faceting** (see the _second example_ in this [documentation](https://altair-viz.github.io/user_guide/compound_charts.html#faceted-charts). \n",
    "\n",
    "Make sure to **include a docstring** to describe your function."
   ]
  },
  {
   "cell_type": "code",
   "execution_count": 4,
   "metadata": {},
   "outputs": [],
   "source": [
    "# Write your function here\n"
   ]
  },
  {
   "cell_type": "code",
   "execution_count": 5,
   "metadata": {},
   "outputs": [],
   "source": [
    "# Demonstrate that your function works by passing a risk factor (e.g., `drug_use`) as an argument to the function.\n"
   ]
  },
  {
   "cell_type": "markdown",
   "metadata": {},
   "source": [
    "_list some observations from your histograms here using Markdown code_:\n",
    "\n",
    "- Observation one\n",
    "- Observation two\n",
    "- etc...\n"
   ]
  },
  {
   "cell_type": "markdown",
   "metadata": {},
   "source": [
    "## Univariate analysis (by sex)\n",
    "In this section, you should investigate how a given risk (column) varies by **sex**. To do this, **write a function** to create a single histogram with _overlapping distributions_ for males and females (for a given risk factor). Again, the argument to your function will be a column name. \n",
    "\n",
    "Make sure to include a **docstring**. \n",
    "\n",
    "_Hint_: turn down the _alpha_ (opacity) to help reduce occlusion in the chart. "
   ]
  },
  {
   "cell_type": "code",
   "execution_count": 6,
   "metadata": {},
   "outputs": [],
   "source": [
    "# Write your function here\n"
   ]
  },
  {
   "cell_type": "code",
   "execution_count": 7,
   "metadata": {},
   "outputs": [],
   "source": [
    "# Demonstrate that your function works!\n"
   ]
  },
  {
   "cell_type": "markdown",
   "metadata": {},
   "source": [
    "_list some observations from your histograms here using Markdown code_:\n",
    "\n",
    "- Observation one\n",
    "- Observation two\n",
    "- etc...\n"
   ]
  },
  {
   "cell_type": "markdown",
   "metadata": {},
   "source": [
    "## Bivariate analysis\n",
    "As a final step, create a **scatterplot matrix** of all of your risks to visually assess the correlation across death rates. Hint: see [documentation](https://altair-viz.github.io/gallery/scatter_matrix.html?highlight=scatter%20matrix)."
   ]
  },
  {
   "cell_type": "code",
   "execution_count": 8,
   "metadata": {},
   "outputs": [],
   "source": [
    "# Code goes here\n"
   ]
  },
  {
   "cell_type": "markdown",
   "metadata": {},
   "source": [
    "_list some observations from your scatterplot matrix here using Markdown code_:\n",
    "\n",
    "- Observation one\n",
    "- Observation two\n",
    "- etc...\n"
   ]
  }
 ],
 "metadata": {
  "kernelspec": {
   "display_name": "Python 3",
   "language": "python",
   "name": "python3"
  },
  "language_info": {
   "codemirror_mode": {
    "name": "ipython",
    "version": 3
   },
   "file_extension": ".py",
   "mimetype": "text/x-python",
   "name": "python",
   "nbconvert_exporter": "python",
   "pygments_lexer": "ipython3",
   "version": "3.6.5"
  }
 },
 "nbformat": 4,
 "nbformat_minor": 1
}
