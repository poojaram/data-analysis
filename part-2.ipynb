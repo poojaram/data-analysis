{
 "cells": [
  {
   "cell_type": "markdown",
   "metadata": {},
   "source": [
    "# Health Burden"
   ]
  },
  {
   "cell_type": "markdown",
   "metadata": {},
   "source": [
    "## Set up"
   ]
  },
  {
   "cell_type": "code",
   "execution_count": 1,
   "metadata": {},
   "outputs": [
    {
     "data": {
      "text/html": [
       "<div>\n",
       "<style>\n",
       "    .dataframe thead tr:only-child th {\n",
       "        text-align: right;\n",
       "    }\n",
       "\n",
       "    .dataframe thead th {\n",
       "        text-align: left;\n",
       "    }\n",
       "\n",
       "    .dataframe tbody tr th {\n",
       "        vertical-align: top;\n",
       "    }\n",
       "</style>\n",
       "<table border=\"1\" class=\"dataframe\">\n",
       "  <thead>\n",
       "    <tr style=\"text-align: right;\">\n",
       "      <th></th>\n",
       "      <th>country</th>\n",
       "      <th>country_code</th>\n",
       "      <th>super_region</th>\n",
       "      <th>region</th>\n",
       "      <th>sex</th>\n",
       "      <th>age</th>\n",
       "      <th>pop</th>\n",
       "      <th>alcohol_use</th>\n",
       "      <th>drug_use</th>\n",
       "      <th>high_meat</th>\n",
       "      <th>low_exercise</th>\n",
       "      <th>smoking</th>\n",
       "    </tr>\n",
       "  </thead>\n",
       "  <tbody>\n",
       "    <tr>\n",
       "      <th>0</th>\n",
       "      <td>China</td>\n",
       "      <td>CHN</td>\n",
       "      <td>Southeast Asia, East Asia, and Oceania</td>\n",
       "      <td>East Asia</td>\n",
       "      <td>male</td>\n",
       "      <td>70+ years</td>\n",
       "      <td>3.818010e+07</td>\n",
       "      <td>336.913532</td>\n",
       "      <td>40.210751</td>\n",
       "      <td>5.069854</td>\n",
       "      <td>248.266850</td>\n",
       "      <td>1944.480464</td>\n",
       "    </tr>\n",
       "    <tr>\n",
       "      <th>1</th>\n",
       "      <td>China</td>\n",
       "      <td>CHN</td>\n",
       "      <td>Southeast Asia, East Asia, and Oceania</td>\n",
       "      <td>East Asia</td>\n",
       "      <td>female</td>\n",
       "      <td>50-69 years</td>\n",
       "      <td>1.530703e+08</td>\n",
       "      <td>21.000557</td>\n",
       "      <td>4.697916</td>\n",
       "      <td>1.077716</td>\n",
       "      <td>12.919982</td>\n",
       "      <td>37.807709</td>\n",
       "    </tr>\n",
       "    <tr>\n",
       "      <th>2</th>\n",
       "      <td>China</td>\n",
       "      <td>CHN</td>\n",
       "      <td>Southeast Asia, East Asia, and Oceania</td>\n",
       "      <td>East Asia</td>\n",
       "      <td>male</td>\n",
       "      <td>Under 5</td>\n",
       "      <td>4.458679e+07</td>\n",
       "      <td>0.236908</td>\n",
       "      <td>0.120827</td>\n",
       "      <td>NaN</td>\n",
       "      <td>NaN</td>\n",
       "      <td>NaN</td>\n",
       "    </tr>\n",
       "    <tr>\n",
       "      <th>3</th>\n",
       "      <td>China</td>\n",
       "      <td>CHN</td>\n",
       "      <td>Southeast Asia, East Asia, and Oceania</td>\n",
       "      <td>East Asia</td>\n",
       "      <td>male</td>\n",
       "      <td>5-14 years</td>\n",
       "      <td>8.299538e+07</td>\n",
       "      <td>1.292633</td>\n",
       "      <td>0.038498</td>\n",
       "      <td>NaN</td>\n",
       "      <td>NaN</td>\n",
       "      <td>NaN</td>\n",
       "    </tr>\n",
       "    <tr>\n",
       "      <th>4</th>\n",
       "      <td>China</td>\n",
       "      <td>CHN</td>\n",
       "      <td>Southeast Asia, East Asia, and Oceania</td>\n",
       "      <td>East Asia</td>\n",
       "      <td>male</td>\n",
       "      <td>15-49 years</td>\n",
       "      <td>3.901690e+08</td>\n",
       "      <td>35.849941</td>\n",
       "      <td>5.677337</td>\n",
       "      <td>0.188490</td>\n",
       "      <td>3.058205</td>\n",
       "      <td>30.797507</td>\n",
       "    </tr>\n",
       "  </tbody>\n",
       "</table>\n",
       "</div>"
      ],
      "text/plain": [
       "  country country_code                            super_region     region  \\\n",
       "0   China          CHN  Southeast Asia, East Asia, and Oceania  East Asia   \n",
       "1   China          CHN  Southeast Asia, East Asia, and Oceania  East Asia   \n",
       "2   China          CHN  Southeast Asia, East Asia, and Oceania  East Asia   \n",
       "3   China          CHN  Southeast Asia, East Asia, and Oceania  East Asia   \n",
       "4   China          CHN  Southeast Asia, East Asia, and Oceania  East Asia   \n",
       "\n",
       "      sex          age           pop  alcohol_use   drug_use  high_meat  \\\n",
       "0    male    70+ years  3.818010e+07   336.913532  40.210751   5.069854   \n",
       "1  female  50-69 years  1.530703e+08    21.000557   4.697916   1.077716   \n",
       "2    male      Under 5  4.458679e+07     0.236908   0.120827        NaN   \n",
       "3    male   5-14 years  8.299538e+07     1.292633   0.038498        NaN   \n",
       "4    male  15-49 years  3.901690e+08    35.849941   5.677337   0.188490   \n",
       "\n",
       "   low_exercise      smoking  \n",
       "0    248.266850  1944.480464  \n",
       "1     12.919982    37.807709  \n",
       "2           NaN          NaN  \n",
       "3           NaN          NaN  \n",
       "4      3.058205    30.797507  "
      ]
     },
     "execution_count": 1,
     "metadata": {},
     "output_type": "execute_result"
    }
   ],
   "source": [
    "# Read in data\n",
    "import pandas as pd\n",
    "import numpy as np\n",
    "import matplotlib.pyplot as plt\n",
    "from pandas.plotting import scatter_matrix\n",
    "data = pd.read_csv('./data/prepped/risk-data.csv')\n",
    "data.head()"
   ]
  },
  {
   "cell_type": "markdown",
   "metadata": {},
   "source": [
    "## Data Structure\n",
    "To get a basic sense of your dataset, check the following:\n",
    "\n",
    "- What is the size of the dataset (rows, columns)?\n",
    "- How many countries are present in the dataset?\n",
    "- What are the age-groups in the dataset?\n",
    "- What are the variables (columns) present in the dataset?\n",
    "- What is the data type of each variable?\n",
    "- What are the summary statistics of each quantitative variable (_hint: `describe()`_)\n",
    "\n",
    "Note the **count** for each column, and investigate why these may be inconsistent."
   ]
  },
  {
   "cell_type": "code",
   "execution_count": 2,
   "metadata": {},
   "outputs": [],
   "source": [
    "# Code goes here\n"
   ]
  },
  {
   "cell_type": "markdown",
   "metadata": {},
   "source": [
    "\n",
    "## Univariate Analysis\n",
    "To explore the distribution of each risk-column in a visual way, create a plot with multiple sub-plots where each sub-plot is a histogram of a risk-column. This [example](https://matplotlib.org/1.4.3/examples/statistics/histogram_demo_multihist.html) may be helpful.\n",
    "\n",
    "- Note what you find surprising!\n",
    "\n",
    "_Hint:_ You may want to use a loop to create each histogram\n",
    "\n",
    "_ Another hint_: You may have to **remove NaN values** to make your histograms"
   ]
  },
  {
   "cell_type": "code",
   "execution_count": 3,
   "metadata": {},
   "outputs": [],
   "source": [
    "# Code goes here\n"
   ]
  },
  {
   "cell_type": "markdown",
   "metadata": {},
   "source": [
    "## Univariate analysis (by age)\n",
    "In this section, you should **write a function** to investigate how a given risk (column) varies by **age group**. More specifically, the function should create a set of histograms (one for each age-group) to show the distribution of death rates across countries for a given risk factor.\n",
    "\n",
    "Make sure to **include a docstring** to describe your function."
   ]
  },
  {
   "cell_type": "code",
   "execution_count": 4,
   "metadata": {
    "collapsed": true
   },
   "outputs": [],
   "source": [
    "# Write your function here\n"
   ]
  },
  {
   "cell_type": "code",
   "execution_count": 5,
   "metadata": {},
   "outputs": [],
   "source": [
    "# Demonstrate that your function works\n"
   ]
  },
  {
   "cell_type": "markdown",
   "metadata": {},
   "source": [
    "## Univariate analysis (by sex)\n",
    "In this section, you should investigate how a given risk (column) varies by **sex**. To do this, **write a function** to create a single histogram with _overlapping distributions_ for men and women (for a given risk factor). \n",
    "\n",
    "Make sure to include a **docstring**. \n",
    "\n",
    "_Hint_: turn down the _alpha_ (opacity) to help reduce occlusion in the chart. "
   ]
  },
  {
   "cell_type": "code",
   "execution_count": 6,
   "metadata": {
    "collapsed": true
   },
   "outputs": [],
   "source": [
    "# Write your function here\n"
   ]
  },
  {
   "cell_type": "code",
   "execution_count": 7,
   "metadata": {},
   "outputs": [],
   "source": [
    "# Demonstrate that your function works!\n"
   ]
  },
  {
   "cell_type": "markdown",
   "metadata": {},
   "source": [
    "## Univariate analysis (by super_region)\n",
    "\n",
    "### Data Prep\n",
    "In this section, you should investigate how each risk (column) varies by **super_region**. In order to do this, you'll need to **convert death rates to deaths** by multiplying the death rate by the `pop` column. Then, aggregate the data using the **group by** function (grouping by `super_region`) to compute the total number of deaths. Then, you'll need to _convert back_ to death _rates_ by dividing each risk by the aggregated `pop` column.\n",
    "\n",
    "### Visualization\n",
    "Then, you should write **two functions** that visualize your **aggregated** dataset:\n",
    "\n",
    "1. For a given **risk factor**, show a bar chart of the death rate in each **super region**.\n",
    "2. For a given **super region**, show a bar chart of the death rate for each **risk**.\n",
    "\n",
    "Make sure to include a **docstring** for each function. "
   ]
  },
  {
   "cell_type": "code",
   "execution_count": 8,
   "metadata": {
    "collapsed": true
   },
   "outputs": [],
   "source": [
    "# Do your data prep here\n",
    "\n",
    "\n",
    "# Convert death rates to deaths\n",
    "\n",
    "\n",
    "# Aggregate by super region\n",
    "\n",
    "\n",
    "# Recalculate rate\n",
    "\n"
   ]
  },
  {
   "cell_type": "code",
   "execution_count": 9,
   "metadata": {
    "collapsed": true
   },
   "outputs": [],
   "source": [
    "# Write your functions here\n",
    "# Bar charts by region (for a given risk)\n",
    "\n",
    "\n",
    "# Bar charts by risk (for a given region)\n"
   ]
  },
  {
   "cell_type": "code",
   "execution_count": 10,
   "metadata": {},
   "outputs": [],
   "source": [
    "# Use your first function to show the smoking death rate in each region\n"
   ]
  },
  {
   "cell_type": "code",
   "execution_count": 11,
   "metadata": {},
   "outputs": [],
   "source": [
    "# User your second function to show the death rate for each risk in the \"South Asia\" region\n"
   ]
  },
  {
   "cell_type": "markdown",
   "metadata": {},
   "source": [
    "## Bivariate analysis\n",
    "As a final step, create a **scatterplot matrix** of all of your risks to visually assess the correlation across death rates. Hint: see [documentation](https://pandas.pydata.org/pandas-docs/stable/visualization.html#scatter-matrix-plot)."
   ]
  },
  {
   "cell_type": "code",
   "execution_count": 12,
   "metadata": {},
   "outputs": [],
   "source": [
    "# Code goes here\n"
   ]
  }
 ],
 "metadata": {
  "kernelspec": {
   "display_name": "Python 3",
   "language": "python",
   "name": "python3"
  },
  "language_info": {
   "codemirror_mode": {
    "name": "ipython",
    "version": 3
   },
   "file_extension": ".py",
   "mimetype": "text/x-python",
   "name": "python",
   "nbconvert_exporter": "python",
   "pygments_lexer": "ipython3",
   "version": "3.6.3"
  }
 },
 "nbformat": 4,
 "nbformat_minor": 1
}
