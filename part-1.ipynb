{
 "cells": [
  {
   "cell_type": "markdown",
   "metadata": {},
   "source": [
    "# Pandas Basics\n",
    "In python, the `pandas` package is the most popular data-frame (i.e., 2-dimensional) manipulation framework. You can think of it like `dplyr` for python. This notebook will walk you through some of the basics of working with dataframes, as well as plotting with `matplotlib` (a popular graphics package). "
   ]
  },
  {
   "cell_type": "markdown",
   "metadata": {},
   "source": [
    "## Creating DataFrames\n",
    "Let's create a dataframe representing 1000 houses that has the following columns:\n",
    "- `house_id`: This should be `\"house_N\"`, where `N` is the house number (i.e., `house_1`)\n",
    "- `neighborhood`: There should be 5 neighborhoods, `\"a\"` through `\"e\"` (200 of each)\n",
    "- `price_2010`: The price (in USD) of the house in 2010 (can be _float_)\n",
    "- `price_2018`: The price (in USD) of the house in 2010 (can be _float_)"
   ]
  },
  {
   "cell_type": "code",
   "execution_count": 1,
   "metadata": {
    "collapsed": true
   },
   "outputs": [],
   "source": [
    "# Import the pandas, numpy, and matplotlib.pyplot packages (as pd, np, and plt respectively)\n"
   ]
  },
  {
   "cell_type": "code",
   "execution_count": 2,
   "metadata": {
    "collapsed": true
   },
   "outputs": [],
   "source": [
    "# Create a _list_ of houses (\"house_N\") 1 through 1000 (hint: use a list comprehension)\n"
   ]
  },
  {
   "cell_type": "code",
   "execution_count": 3,
   "metadata": {
    "collapsed": true
   },
   "outputs": [],
   "source": [
    "# Create a list of neighborhoods `a` thorugh `e` that is 1000 elements long. Hint: *multiply* a list...\n"
   ]
  },
  {
   "cell_type": "code",
   "execution_count": 4,
   "metadata": {
    "collapsed": true
   },
   "outputs": [],
   "source": [
    "# Creaet a list of 1000 home prices (for the year 2010) that range uniformly from 50000 to 400000 using np.random\n"
   ]
  },
  {
   "cell_type": "code",
   "execution_count": 5,
   "metadata": {
    "collapsed": true
   },
   "outputs": [],
   "source": [
    "# Create a list of 1000 home prices (for the year 2018) by multiplying the 2010 price by a random number\n",
    "# The number should be drawn randomly from a normal distribution with mean 1.5 and standard deviation .5\n"
   ]
  },
  {
   "cell_type": "code",
   "execution_count": 6,
   "metadata": {
    "collapsed": true
   },
   "outputs": [],
   "source": [
    "# Create a dataframe `houses` with each list above as a column. Use the pd.DataFrame() function\n"
   ]
  },
  {
   "cell_type": "markdown",
   "metadata": {},
   "source": [
    "# Accessing DataFrames\n",
    "In this section, you'll extract and compute information of interest using dataframe **properties** and **methods**"
   ]
  },
  {
   "cell_type": "code",
   "execution_count": 7,
   "metadata": {
    "collapsed": true
   },
   "outputs": [],
   "source": [
    "# What is the _shape_ of the dataframe?\n"
   ]
  },
  {
   "cell_type": "code",
   "execution_count": 8,
   "metadata": {
    "collapsed": true
   },
   "outputs": [],
   "source": [
    "# What is the maximum house price in 2018 (hint: use the `.max()` method)\n"
   ]
  },
  {
   "cell_type": "code",
   "execution_count": 9,
   "metadata": {
    "collapsed": true
   },
   "outputs": [],
   "source": [
    "# What are the summary statistics of the dataframe (hint: use the `.describe()` method)\n"
   ]
  },
  {
   "cell_type": "code",
   "execution_count": 10,
   "metadata": {
    "collapsed": true
   },
   "outputs": [],
   "source": [
    "# What was the median house price in 2018 (hint: use the `.median()` method)\n"
   ]
  },
  {
   "cell_type": "code",
   "execution_count": 11,
   "metadata": {
    "collapsed": true
   },
   "outputs": [],
   "source": [
    "# In which neighborhood was the cheapest house in 2010?\n",
    "# Hint: you can subset a dataframe using df[df.col == value]\n"
   ]
  },
  {
   "cell_type": "markdown",
   "metadata": {},
   "source": [
    "## Aggregating data\n",
    "Just like `dplyr`, pandas has a `groupby` method in which you can _group_ a dataframe by a column of interest, and then _aggregate_ (`agg`) your columns using a given function (i.e., `mean`, `sum`, `median`, etc.). Note, this will create a row `index` (i.e., row name) for your dataframe"
   ]
  },
  {
   "cell_type": "code",
   "execution_count": 12,
   "metadata": {
    "collapsed": true
   },
   "outputs": [],
   "source": [
    "# What was the median home price _in each neighborhood_ in each year? \n",
    "# Create a new variable of these values.\n"
   ]
  },
  {
   "cell_type": "code",
   "execution_count": 13,
   "metadata": {
    "collapsed": true
   },
   "outputs": [],
   "source": [
    "# Get the prices for neighborhood 'b'. \n",
    "# Note, you can now use the df.loc[rows, columns] to select by row name\n"
   ]
  },
  {
   "cell_type": "markdown",
   "metadata": {},
   "source": [
    "## Visualizing data\n",
    "In this section, we'll use `matplotlib` to create a few plots. You may want to reference the [documentation](https://matplotlib.org/contents.html) or [examples](https://matplotlib.org/examples/)"
   ]
  },
  {
   "cell_type": "code",
   "execution_count": 14,
   "metadata": {
    "collapsed": true
   },
   "outputs": [],
   "source": [
    "# Create a histogram of prices in 2010 using `plt.hist()`, then `plt.show()`\n"
   ]
  },
  {
   "cell_type": "code",
   "execution_count": 15,
   "metadata": {
    "collapsed": true
   },
   "outputs": [],
   "source": [
    "# Create a scatterplot of prices in 2010 v.s. prices in 2018 using `plt.scatter()`\n"
   ]
  },
  {
   "cell_type": "code",
   "execution_count": 16,
   "metadata": {
    "collapsed": true
   },
   "outputs": [],
   "source": [
    "# To compare median house prices in 2018 by neighborhood, \n",
    "# Make a bar chart of the median house price in each neighborhood \n",
    "# (use your aggregated data from above)\n",
    "# Hint: you'll use the `index` of the dataframe as the `x` of your bar chart\n"
   ]
  },
  {
   "cell_type": "code",
   "execution_count": 17,
   "metadata": {
    "collapsed": true
   },
   "outputs": [],
   "source": [
    "# Finally, let's create *two adjacent bar charts* of price by neighborhood (2010, 2018)\n",
    "# Use the *same y axis*\n",
    "# See: https://matplotlib.org/examples/pylab_examples/subplots_demo.html\n"
   ]
  }
 ],
 "metadata": {
  "kernelspec": {
   "display_name": "Python 3",
   "language": "python",
   "name": "python3"
  },
  "language_info": {
   "codemirror_mode": {
    "name": "ipython",
    "version": 3
   },
   "file_extension": ".py",
   "mimetype": "text/x-python",
   "name": "python",
   "nbconvert_exporter": "python",
   "pygments_lexer": "ipython3",
   "version": "3.6.3"
  }
 },
 "nbformat": 4,
 "nbformat_minor": 2
}
